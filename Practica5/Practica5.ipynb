{
 "cells": [
  {
   "cell_type": "code",
   "execution_count": 16,
   "id": "e4073637",
   "metadata": {
    "scrolled": false
   },
   "outputs": [
    {
     "ename": "AttributeError",
     "evalue": "'OneHotEncoder' object has no attribute 'shape'",
     "output_type": "error",
     "traceback": [
      "\u001b[1;31m---------------------------------------------------------------------------\u001b[0m",
      "\u001b[1;31mAttributeError\u001b[0m                            Traceback (most recent call last)",
      "Cell \u001b[1;32mIn[16], line 15\u001b[0m\n\u001b[0;32m     11\u001b[0m OHE \u001b[38;5;241m=\u001b[39m OneHotEncoder();\n\u001b[0;32m     13\u001b[0m Y \u001b[38;5;241m=\u001b[39m OHE\u001b[38;5;241m.\u001b[39mfit(y\u001b[38;5;241m.\u001b[39mreshape(\u001b[38;5;241m-\u001b[39m\u001b[38;5;241m1\u001b[39m, \u001b[38;5;241m1\u001b[39m));\n\u001b[1;32m---> 15\u001b[0m \u001b[38;5;28mprint\u001b[39m(Y\u001b[38;5;241m.\u001b[39mshape)\n",
      "\u001b[1;31mAttributeError\u001b[0m: 'OneHotEncoder' object has no attribute 'shape'"
     ]
    }
   ],
   "source": [
    "import numpy as np\n",
    "import matplotlib.pyplot as plt\n",
    "\n",
    "from scipy.io import loadmat\n",
    "from scipy.io import savemat\n",
    "from scipy.optimize import minimize\n",
    "from sklearn.metrics import accuracy_score\n",
    "from sklearn.preprocessing import OneHotEncoder\n",
    "\n",
    "from ann import cost\n",
    "from ann import cost_regL2\n",
    "from ann import backprop\n",
    "from ann import backprop2\n",
    "from ann import predict\n",
    "from ann import feedForward\n",
    "\n",
    "from utils import checkNNGradients\n",
    "\n",
    "data = loadmat('data/ex3data1.mat', squeeze_me=True)\n",
    "y = data['y']\n",
    "X = data['X']\n",
    "\n",
    "OHE = OneHotEncoder();\n",
    "\n",
    "Y = OHE.fit(y.reshape(-1, 1));\n",
    "\n",
    "weights = loadmat('data/ex3weights.mat')\n",
    "theta_list = [weights['Theta1'], weights['Theta2']]\n",
    "lambda_ = 1\n",
    "\n",
    "aNNCost = cost_regL2(theta_list, X, Y, lambda_)\n",
    "\n",
    "print(f'Coste de la red: ', annCost:.2f)\n",
    "\n",
    "#Ejercicio 2\n",
    "checkNNGradients(backprop2, reg_param=0)\n",
    "\n",
    "#Ejercicio 3\n",
    "epsilon = 0.12\n",
    "theta1 = np.random.rand(weights['Theta1'].shape[0], weights['Theta1'].shape[1]) * 2 * epsilon - epsilon\n",
    "theta2 = np.random.rand(weights['Theta2'].shape[0], weights['Theta2'].shape[1]) * 2 * epsilon - epsilon\n",
    "\n",
    "iterations = 1000\n",
    "lambda_ = 1\n",
    "alpha = 1\n",
    "\n",
    "for _ in range(iterations):\n",
    "    cost, grad1, grad2 = backprop2(theta1, theta2, X, Y, lambda_)\n",
    "\n",
    "    theta1 = theta1 - alpha * grad1\n",
    "    theta2 = theta2 - alpha * grad2\n",
    "\n",
    "activations, zs = feedForward([theta1, theta2], X)\n",
    "accuracy = accuracy_score(y, np.argmax(activations[-1], axis=1))\n",
    "\n",
    "print(f'Precisión de entrenamiento: ' {accuracy * 100:.2f}%')"
   ]
  },
  {
   "cell_type": "code",
   "execution_count": null,
   "id": "35f21ab8",
   "metadata": {},
   "outputs": [],
   "source": []
  },
  {
   "cell_type": "code",
   "execution_count": null,
   "id": "879098a6",
   "metadata": {},
   "outputs": [],
   "source": []
  }
 ],
 "metadata": {
  "kernelspec": {
   "display_name": "Python 3 (ipykernel)",
   "language": "python",
   "name": "python3"
  },
  "language_info": {
   "codemirror_mode": {
    "name": "ipython",
    "version": 3
   },
   "file_extension": ".py",
   "mimetype": "text/x-python",
   "name": "python",
   "nbconvert_exporter": "python",
   "pygments_lexer": "ipython3",
   "version": "3.11.4"
  }
 },
 "nbformat": 4,
 "nbformat_minor": 5
}
