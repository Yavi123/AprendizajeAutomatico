{
 "cells": [
  {
   "cell_type": "code",
   "execution_count": 1,
   "id": "e4073637",
   "metadata": {
    "scrolled": true
   },
   "outputs": [
    {
     "name": "stdout",
     "output_type": "stream",
     "text": [
      "(5000,)\n",
      "(5000, 400)\n",
      "CosteL2 :  0.38376985909092365\n"
     ]
    },
    {
     "ename": "ValueError",
     "evalue": "operands could not be broadcast together with shapes (5,2) (5,3) (5,2) ",
     "output_type": "error",
     "traceback": [
      "\u001b[1;31m---------------------------------------------------------------------------\u001b[0m",
      "\u001b[1;31mValueError\u001b[0m                                Traceback (most recent call last)",
      "Cell \u001b[1;32mIn[1], line 31\u001b[0m\n\u001b[0;32m     27\u001b[0m \u001b[38;5;28mprint\u001b[39m(\u001b[38;5;124m\"\u001b[39m\u001b[38;5;124mCosteL2 : \u001b[39m\u001b[38;5;124m\"\u001b[39m, costL2Result)\n\u001b[0;32m     30\u001b[0m \u001b[38;5;66;03m# Ejercicio 2 Backpropagation:\u001b[39;00m\n\u001b[1;32m---> 31\u001b[0m checkNNGradients(backprop, reg_param\u001b[38;5;241m=\u001b[39m\u001b[38;5;241m0\u001b[39m)\n\u001b[0;32m     34\u001b[0m \u001b[38;5;66;03m#Ejercicio 3 Aprendizaje de los parámetros:\u001b[39;00m\n\u001b[0;32m     36\u001b[0m e \u001b[38;5;241m=\u001b[39m \u001b[38;5;241m0.12\u001b[39m\n",
      "File \u001b[1;32m~\\Videos\\AprendizajeAutomatico\\Practica5\\utils.py:108\u001b[0m, in \u001b[0;36mcheckNNGradients\u001b[1;34m(costNN, reg_param)\u001b[0m\n\u001b[0;32m    102\u001b[0m     ys[i, y[i]] \u001b[38;5;241m=\u001b[39m \u001b[38;5;241m1\u001b[39m\n\u001b[0;32m    104\u001b[0m \u001b[38;5;66;03m# Unroll parameters\u001b[39;00m\n\u001b[0;32m    105\u001b[0m \u001b[38;5;66;03m# nn_params = np.append(Theta1, Theta2).reshape(-1)\u001b[39;00m\n\u001b[0;32m    106\u001b[0m \n\u001b[0;32m    107\u001b[0m \u001b[38;5;66;03m# Compute Gradient\u001b[39;00m\n\u001b[1;32m--> 108\u001b[0m cost, grad1, grad2 \u001b[38;5;241m=\u001b[39m costNN(Theta1, Theta2,\n\u001b[0;32m    109\u001b[0m                             X, ys, reg_param)\n\u001b[0;32m    110\u001b[0m grad \u001b[38;5;241m=\u001b[39m np\u001b[38;5;241m.\u001b[39mconcatenate((np\u001b[38;5;241m.\u001b[39mravel(grad1), np\u001b[38;5;241m.\u001b[39mravel(grad2)))\n\u001b[0;32m    112\u001b[0m \u001b[38;5;28;01mdef\u001b[39;00m \u001b[38;5;21mreduced_cost_func\u001b[39m(p):\n",
      "File \u001b[1;32m~\\Videos\\AprendizajeAutomatico\\Practica5\\ann.py:100\u001b[0m, in \u001b[0;36mbackprop\u001b[1;34m(theta1, theta2, X, y, lambda_)\u001b[0m\n\u001b[0;32m     93\u001b[0m grad1 \u001b[38;5;241m=\u001b[39m np\u001b[38;5;241m.\u001b[39mdot(delta\u001b[38;5;241m.\u001b[39mT, X) \u001b[38;5;241m/\u001b[39m m\n\u001b[0;32m     95\u001b[0m \u001b[38;5;66;03m# # Calcular gradientes sin regularizacion\u001b[39;00m\n\u001b[0;32m     96\u001b[0m \u001b[38;5;66;03m# grad1 = np.dot(deltas[0].T, layerValues[0]) / m\u001b[39;00m\n\u001b[0;32m     97\u001b[0m \u001b[38;5;66;03m# grad2 = np.dot(deltas[1].T, layerValues[1]) / m\u001b[39;00m\n\u001b[0;32m     98\u001b[0m \n\u001b[0;32m     99\u001b[0m \u001b[38;5;66;03m# Aplicar/Sumar regularizacion\u001b[39;00m\n\u001b[1;32m--> 100\u001b[0m grad1[:, \u001b[38;5;241m1\u001b[39m:] \u001b[38;5;241m+\u001b[39m\u001b[38;5;241m=\u001b[39m (lambda_ \u001b[38;5;241m/\u001b[39m m) \u001b[38;5;241m*\u001b[39m theta1[:, \u001b[38;5;241m1\u001b[39m:]\n\u001b[0;32m    101\u001b[0m grad2[:, \u001b[38;5;241m1\u001b[39m:] \u001b[38;5;241m+\u001b[39m\u001b[38;5;241m=\u001b[39m (lambda_ \u001b[38;5;241m/\u001b[39m m) \u001b[38;5;241m*\u001b[39m theta2[:, \u001b[38;5;241m1\u001b[39m:]\n\u001b[0;32m    103\u001b[0m \u001b[38;5;66;03m# Calcular coste\u001b[39;00m\n",
      "\u001b[1;31mValueError\u001b[0m: operands could not be broadcast together with shapes (5,2) (5,3) (5,2) "
     ]
    }
   ],
   "source": [
    "import numpy as np\n",
    "import matplotlib.pyplot as plt\n",
    "\n",
    "from ann import costL2, backprop, forwardprop, iterateThetas\n",
    "from utils import checkNNGradients\n",
    "\n",
    "from sklearn.preprocessing import OneHotEncoder\n",
    "from scipy.io import loadmat\n",
    "\n",
    "\n",
    "info = loadmat('data/ex3data1.mat', squeeze_me=True)\n",
    "y = info['y']\n",
    "X = info['X']\n",
    "\n",
    "print(y.shape)\n",
    "print(X.shape)\n",
    "\n",
    "Y = OneHotEncoder(sparse_output=False, categories='auto').fit_transform(y.reshape(-1, 1))\n",
    "\n",
    "weights = loadmat('data/ex3weights.mat')\n",
    "theta1_fromFile = weights['Theta1']\n",
    "theta2_fromFile = weights['Theta2']\n",
    "myLambda = 1\n",
    "\n",
    "# Ejercicio 1 Compute cost:\n",
    "costL2Result = costL2([theta1_fromFile, theta2_fromFile], X, Y, myLambda)\n",
    "print(\"CosteL2 : \", costL2Result)\n",
    "\n",
    "\n",
    "# Ejercicio 2 Backpropagation:\n",
    "checkNNGradients(backprop, reg_param=0)\n",
    "\n",
    "\n",
    "#Ejercicio 3 Aprendizaje de los parámetros:\n",
    "\n",
    "e = 0.12\n",
    "iterations = 100\n",
    "myAlpha = 1\n",
    "\n",
    "# Valores aleatorios en theta1 y theta2\n",
    "theta1 = np.random.uniform(low=-e, high=e, size=(theta1_fromFile.shape[0], theta1_fromFile.shape[1]))\n",
    "theta2 = np.random.uniform(low=-e, high=e, size=(theta2_fromFile.shape[0], theta2_fromFile.shape[1]))\n",
    "\n",
    "# Ajustar thetha1 y theta2 teniendo en cuenta los parametros dados\n",
    "theta1, theta2 = iterateThetas(theta1, theta2, X, Y, iterations, myLambda, myAlpha)\n",
    "\n",
    "# Realizar la propagación hacia adelante\n",
    "layerValues, weighted_inputs = forwardprop([theta1, theta2], X)\n",
    "\n",
    "# Tener las predicciones mas probables en \"predictions\"\n",
    "predictions = np.argmax(layerValues[-1], axis=1)\n",
    "totalCases = len(y)\n",
    "#Numero de veces que se ha acertado el valor\n",
    "correctCases = np.sum(predictions == y)\n",
    "accuracy = correctCases / totalCases\n",
    "print(\"Accuracy : \", accuracy)"
   ]
  },
  {
   "cell_type": "code",
   "execution_count": null,
   "id": "35f21ab8",
   "metadata": {},
   "outputs": [],
   "source": []
  },
  {
   "cell_type": "code",
   "execution_count": null,
   "id": "879098a6",
   "metadata": {},
   "outputs": [],
   "source": []
  },
  {
   "cell_type": "code",
   "execution_count": null,
   "id": "4baf9419",
   "metadata": {},
   "outputs": [],
   "source": []
  }
 ],
 "metadata": {
  "kernelspec": {
   "display_name": "Python 3 (ipykernel)",
   "language": "python",
   "name": "python3"
  },
  "language_info": {
   "codemirror_mode": {
    "name": "ipython",
    "version": 3
   },
   "file_extension": ".py",
   "mimetype": "text/x-python",
   "name": "python",
   "nbconvert_exporter": "python",
   "pygments_lexer": "ipython3",
   "version": "3.11.4"
  }
 },
 "nbformat": 4,
 "nbformat_minor": 5
}
