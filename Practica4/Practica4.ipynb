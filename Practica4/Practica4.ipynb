{
 "cells": [
  {
   "cell_type": "code",
   "execution_count": 4,
   "id": "e4073637",
   "metadata": {
    "scrolled": false
   },
   "outputs": [
    {
     "name": "stdout",
     "output_type": "stream",
     "text": [
      "[0 0 0 ... 9 9 9]\n",
      "Prediction Percent =  97.52  % \n",
      "truePositive =  496\n",
      "trueNegative =  4491\n",
      "falsePositive =  9\n",
      "falseNegative =  4\n",
      "precission =  0.9821782178217822\n",
      "recall =  0.992\n",
      "F1Score =  0.9870646766169153\n"
     ]
    }
   ],
   "source": [
    "from ANN import predict\n",
    "from utils import displayData\n",
    "\n",
    "import matplotlib.pyplot as plt\n",
    "import numpy as np\n",
    "\n",
    "\n",
    "############## PART A ##############\n",
    "\n",
    "from scipy.io import loadmat, savemat\n",
    "data = loadmat('data/ex3data1.mat', squeeze_me=True)\n",
    "y = data['y']\n",
    "X = data['X']\n",
    "\n",
    "#print(\"X = \" , X.shape)\n",
    "#print(\"y = \" ,y)\n",
    "\n",
    "\n",
    "# 5000 neuronas de entrada\n",
    "# 25 neuronas ocultas\n",
    "# 10 neuronas de salida\n",
    "\n",
    "# theta1 tiene dimensiones 400 x 25\n",
    "# theta1 tiene dimensiones 26 x 10\n",
    "weights = loadmat('data/ex3weights.mat')\n",
    "theta1, theta2 = weights['Theta1'], weights['Theta2']\n",
    "\n",
    "#print(\"weights = \" ,weights)\n",
    "#print(\"theta1 = \" ,theta1.shape[0], \" \", theta1.shape[1])\n",
    "#print(\"theta2 = \" ,theta2.shape[0], \" \", theta2.shape[1])\n",
    "\n",
    "\n",
    "predictions = predict(theta1, theta2, X)\n",
    "\n",
    "print(predictions)\n",
    "\n",
    "percent = np.mean(y == predictions)\n",
    "print(\"Prediction Percent = \", percent *100, \" % \")\n",
    "\n",
    "## MATRIZ DE CONFUSION\n",
    "truePositive = np.sum((predictions == 0) & (y == 0))\n",
    "trueNegative = np.sum((predictions != 0) & (y != 0))\n",
    "falsePositive = np.sum((predictions == 0) & (y != 0))\n",
    "falseNegative = np.sum((predictions != 0) & (y == 0))\n",
    "\n",
    "print(\"truePositive = \", truePositive)\n",
    "print(\"trueNegative = \", trueNegative)\n",
    "print(\"falsePositive = \", falsePositive)\n",
    "print(\"falseNegative = \", falseNegative)\n",
    "\n",
    "\n",
    "precission = truePositive / (truePositive + falsePositive)\n",
    "recall = truePositive / (truePositive + falseNegative)\n",
    "F1Score = 2 * ((precission * recall) / (precission + recall))\n",
    "\n",
    "print(\"precission = \", precission)\n",
    "print(\"recall = \", recall)\n",
    "print(\"F1Score = \", F1Score)"
   ]
  },
  {
   "cell_type": "code",
   "execution_count": null,
   "id": "35f21ab8",
   "metadata": {},
   "outputs": [],
   "source": []
  },
  {
   "cell_type": "code",
   "execution_count": null,
   "id": "879098a6",
   "metadata": {},
   "outputs": [],
   "source": []
  },
  {
   "cell_type": "code",
   "execution_count": null,
   "id": "084ad689",
   "metadata": {},
   "outputs": [],
   "source": []
  }
 ],
 "metadata": {
  "kernelspec": {
   "display_name": "Python 3 (ipykernel)",
   "language": "python",
   "name": "python3"
  },
  "language_info": {
   "codemirror_mode": {
    "name": "ipython",
    "version": 3
   },
   "file_extension": ".py",
   "mimetype": "text/x-python",
   "name": "python",
   "nbconvert_exporter": "python",
   "pygments_lexer": "ipython3",
   "version": "3.11.4"
  }
 },
 "nbformat": 4,
 "nbformat_minor": 5
}
